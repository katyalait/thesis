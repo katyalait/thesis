{
 "cells": [
  {
   "cell_type": "code",
   "execution_count": 17,
   "metadata": {},
   "outputs": [],
   "source": [
    "import sentiment.model as funcs\n",
    "import os\n",
    "import multiprocessing as mp\n",
    "import numpy as np\n",
    "from sentiment.model import time_to_complete\n",
    "import multiprocessing as mp\n",
    "from gensim.models import Word2Vec\n",
    "from data_handler.models import Word\n",
    "from sentiment.models import Category\n",
    "\n",
    "os.environ[\"DJANGO_ALLOW_ASYNC_UNSAFE\"] = \"true\"\n",
    "def progress(count, total, status=''):\n",
    "    bar_len = 60\n",
    "    filled_len = int(round(bar_len * count / float(total)))\n",
    "\n",
    "    percents = round(100.0 * count / float(total), 1)\n",
    "    bar = '=' * filled_len + '-' * (bar_len - filled_len)\n",
    "\n",
    "    sys.stdout.write('[%s] %s%s ...%s\\r' % (bar, percents, '%', status))\n",
    "    sys.stdout.flush()\n"
   ]
  },
  {
   "cell_type": "code",
   "execution_count": 14,
   "metadata": {},
   "outputs": [
    {
     "data": {
      "text/html": [
       "<div>\n",
       "<style scoped>\n",
       "    .dataframe tbody tr th:only-of-type {\n",
       "        vertical-align: middle;\n",
       "    }\n",
       "\n",
       "    .dataframe tbody tr th {\n",
       "        vertical-align: top;\n",
       "    }\n",
       "\n",
       "    .dataframe thead th {\n",
       "        text-align: right;\n",
       "    }\n",
       "</style>\n",
       "<table border=\"1\" class=\"dataframe\">\n",
       "  <thead>\n",
       "    <tr style=\"text-align: right;\">\n",
       "      <th></th>\n",
       "      <th>Entry</th>\n",
       "    </tr>\n",
       "  </thead>\n",
       "  <tbody>\n",
       "    <tr>\n",
       "      <th>0</th>\n",
       "      <td>ABANDON</td>\n",
       "    </tr>\n",
       "    <tr>\n",
       "      <th>1</th>\n",
       "      <td>ABANDONED</td>\n",
       "    </tr>\n",
       "    <tr>\n",
       "      <th>2</th>\n",
       "      <td>ABANDONING</td>\n",
       "    </tr>\n",
       "    <tr>\n",
       "      <th>3</th>\n",
       "      <td>ABANDONMENT</td>\n",
       "    </tr>\n",
       "    <tr>\n",
       "      <th>4</th>\n",
       "      <td>ABANDONMENTS</td>\n",
       "    </tr>\n",
       "    <tr>\n",
       "      <th>...</th>\n",
       "      <td>...</td>\n",
       "    </tr>\n",
       "    <tr>\n",
       "      <th>2350</th>\n",
       "      <td>WRONGDOING</td>\n",
       "    </tr>\n",
       "    <tr>\n",
       "      <th>2351</th>\n",
       "      <td>WRONGDOINGS</td>\n",
       "    </tr>\n",
       "    <tr>\n",
       "      <th>2352</th>\n",
       "      <td>WRONGFUL</td>\n",
       "    </tr>\n",
       "    <tr>\n",
       "      <th>2353</th>\n",
       "      <td>WRONGFULLY</td>\n",
       "    </tr>\n",
       "    <tr>\n",
       "      <th>2354</th>\n",
       "      <td>WRONGLY</td>\n",
       "    </tr>\n",
       "  </tbody>\n",
       "</table>\n",
       "<p>2355 rows × 1 columns</p>\n",
       "</div>"
      ],
      "text/plain": [
       "             Entry\n",
       "0          ABANDON\n",
       "1        ABANDONED\n",
       "2       ABANDONING\n",
       "3      ABANDONMENT\n",
       "4     ABANDONMENTS\n",
       "...            ...\n",
       "2350    WRONGDOING\n",
       "2351   WRONGDOINGS\n",
       "2352      WRONGFUL\n",
       "2353    WRONGFULLY\n",
       "2354       WRONGLY\n",
       "\n",
       "[2355 rows x 1 columns]"
      ]
     },
     "execution_count": 14,
     "metadata": {},
     "output_type": "execute_result"
    }
   ],
   "source": [
    "import pandas as pd\n",
    "df = pd.read_excel('lmd.xlsx', sheet_name='LMD_Positive', header=None, names=[\"Entry\"])\n",
    "df"
   ]
  },
  {
   "cell_type": "code",
   "execution_count": 19,
   "metadata": {},
   "outputs": [
    {
     "name": "stdout",
     "output_type": "stream",
     "text": [
      "[============================================================] 100.0% ...Adding word: WRONGLYLYSTYESSYSN\r"
     ]
    }
   ],
   "source": [
    "df = df.replace(np.nan, '', regex=True)\n",
    "cat = Category.objects.create(name=\"LMD_Negative\")\n",
    "length = len(df)\n",
    "for index, row in df.iterrows():\n",
    "    word = str(row[\"Entry\"]).strip()\n",
    "    \n",
    "    progress(index, length, status=\"Adding word: {}\".format(word))\n",
    "    word_obj = \"\"\n",
    "    word_obj = Word.objects.filter(word=word).first()\n",
    "    if not word_obj:\n",
    "        word_obj = Word(word=word)\n",
    "        word_obj.save()\n",
    "    word_obj.categories.add(cat)\n",
    "    word_obj.save()"
   ]
  },
  {
   "cell_type": "code",
   "execution_count": null,
   "metadata": {},
   "outputs": [],
   "source": [
    "def similarity(wv, matrix, word_list, word):\n",
    "    matrix[word] = [wv.similarity(word, other_word) for other_word in word_list]\n",
    "    return matrix"
   ]
  },
  {
   "cell_type": "code",
   "execution_count": null,
   "metadata": {},
   "outputs": [],
   "source": [
    "index = 0\n",
    "length = len(word_list)\n",
    "a_matrix = {}\n",
    "for word in word_list:\n",
    "    index += 1\n",
    "    progress(index, length, status=\"Processed word {}/{}. Len: {}\".format(index, length, len(a_matrix)))\n",
    "    a_matrix = pool.apply(similarity, args=(wv, a_matrix, word_list, word))\n",
    "    \n"
   ]
  },
  {
   "cell_type": "code",
   "execution_count": null,
   "metadata": {},
   "outputs": [],
   "source": [
    "word = word_list[0]\n",
    "print(word)\n",
    "\n",
    "a_matrix = pool.apply(similarity, args=(wv, a_matrix, word_list, word))\n",
    "print(a_matrix)"
   ]
  },
  {
   "cell_type": "code",
   "execution_count": null,
   "metadata": {},
   "outputs": [],
   "source": [
    "import pandas as pd\n",
    "from data_handler.models import StockPrice\n",
    "df = pd.read_csv(\"data_handler/GBPEUR=X.csv\")"
   ]
  },
  {
   "cell_type": "code",
   "execution_count": null,
   "metadata": {},
   "outputs": [],
   "source": [
    "df.columns"
   ]
  },
  {
   "cell_type": "code",
   "execution_count": null,
   "metadata": {},
   "outputs": [],
   "source": [
    "from data_handler.models import Asset\n",
    "\n",
    "asset = Asset.objects.create(name=\"GBP/USD\", ticker=\"GBPUSD=X\")\n",
    "asset.save()"
   ]
  },
  {
   "cell_type": "code",
   "execution_count": null,
   "metadata": {},
   "outputs": [],
   "source": [
    "df2 = pd.read_csv(\"data_handler/GBPUSD=X.csv\")\n",
    "import math\n",
    "from datetime import datetime \n",
    "length, _ = df2.shape\n",
    "df2 = df2.dropna()\n",
    "for index, row in df2.iterrows():\n",
    "    progress(index, length)\n",
    "    \n",
    "    date = datetime.strptime(row['Date'], \"%Y-%m-%d\").date()\n",
    "    \n",
    "    stock = StockPrice.objects.create(asset=asset, \n",
    "                                      date=date, \n",
    "                                      open=row['Open'], \n",
    "                                      close=row['Close'], \n",
    "                                      high=row['High'], \n",
    "                                      low=row['Low'],\n",
    "                                      adj_close=row['Adj Close'] if row['Adj Close'] else 0.0,\n",
    "                                      volume=row['Volume'] if not math.isnan(row['Volume']) else 0.0,\n",
    "                                      interday_volatility=0.0\n",
    "                                     )\n",
    "    stock.save()\n",
    "    stock.interday_volatility = stock.log_return()\n",
    "    stock.save()\n",
    "    "
   ]
  }
 ],
 "metadata": {
  "kernelspec": {
   "display_name": "Django Shell-Plus",
   "language": "python",
   "name": "django_extensions"
  },
  "language_info": {
   "codemirror_mode": {
    "name": "ipython",
    "version": 3
   },
   "file_extension": ".py",
   "mimetype": "text/x-python",
   "name": "python",
   "nbconvert_exporter": "python",
   "pygments_lexer": "ipython3",
   "version": "3.6.9"
  }
 },
 "nbformat": 4,
 "nbformat_minor": 4
}
