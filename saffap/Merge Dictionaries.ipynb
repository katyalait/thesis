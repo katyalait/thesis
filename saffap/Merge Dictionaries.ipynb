{
 "cells": [
  {
   "cell_type": "code",
   "execution_count": 1,
   "metadata": {},
   "outputs": [],
   "source": [
    "import os \n",
    "import pandas as pd\n",
    "os.environ[\"DJANGO_ALLOW_ASYNC_UNSAFE\"] = \"true\"\n",
    "from data_handler.preprocessing import FinancialDataPreprocessor\n",
    "from sentiment.model import SentimentPriceModel\n",
    "from data_handler.models import Asset\n",
    "from sentiment.models import Category"
   ]
  },
  {
   "cell_type": "code",
   "execution_count": 6,
   "metadata": {},
   "outputs": [
    {
     "name": "stdout",
     "output_type": "stream",
     "text": [
      "[============================================================] 100.0% ...2020-03-18\r"
     ]
    },
    {
     "data": {
      "text/html": [
       "<div>\n",
       "<style scoped>\n",
       "    .dataframe tbody tr th:only-of-type {\n",
       "        vertical-align: middle;\n",
       "    }\n",
       "\n",
       "    .dataframe tbody tr th {\n",
       "        vertical-align: top;\n",
       "    }\n",
       "\n",
       "    .dataframe thead th {\n",
       "        text-align: right;\n",
       "    }\n",
       "</style>\n",
       "<table border=\"1\" class=\"dataframe\">\n",
       "  <thead>\n",
       "    <tr style=\"text-align: right;\">\n",
       "      <th></th>\n",
       "      <th>Special Negative Words</th>\n",
       "    </tr>\n",
       "    <tr>\n",
       "      <th>date</th>\n",
       "      <th></th>\n",
       "    </tr>\n",
       "  </thead>\n",
       "  <tbody>\n",
       "    <tr>\n",
       "      <th>2016-01-04</th>\n",
       "      <td>-1.326730</td>\n",
       "    </tr>\n",
       "    <tr>\n",
       "      <th>2016-01-05</th>\n",
       "      <td>-1.361495</td>\n",
       "    </tr>\n",
       "    <tr>\n",
       "      <th>2016-01-06</th>\n",
       "      <td>-1.030069</td>\n",
       "    </tr>\n",
       "    <tr>\n",
       "      <th>2016-01-07</th>\n",
       "      <td>-1.286171</td>\n",
       "    </tr>\n",
       "    <tr>\n",
       "      <th>2016-01-08</th>\n",
       "      <td>-1.326730</td>\n",
       "    </tr>\n",
       "    <tr>\n",
       "      <th>...</th>\n",
       "      <td>...</td>\n",
       "    </tr>\n",
       "    <tr>\n",
       "      <th>2019-12-23</th>\n",
       "      <td>-1.229388</td>\n",
       "    </tr>\n",
       "    <tr>\n",
       "      <th>2019-12-24</th>\n",
       "      <td>-1.121617</td>\n",
       "    </tr>\n",
       "    <tr>\n",
       "      <th>2019-12-27</th>\n",
       "      <td>-0.332452</td>\n",
       "    </tr>\n",
       "    <tr>\n",
       "      <th>2019-12-30</th>\n",
       "      <td>-0.738043</td>\n",
       "    </tr>\n",
       "    <tr>\n",
       "      <th>2019-12-31</th>\n",
       "      <td>-0.485418</td>\n",
       "    </tr>\n",
       "  </tbody>\n",
       "</table>\n",
       "<p>1008 rows × 1 columns</p>\n",
       "</div>"
      ],
      "text/plain": [
       "            Special Negative Words\n",
       "date                              \n",
       "2016-01-04               -1.326730\n",
       "2016-01-05               -1.361495\n",
       "2016-01-06               -1.030069\n",
       "2016-01-07               -1.286171\n",
       "2016-01-08               -1.326730\n",
       "...                            ...\n",
       "2019-12-23               -1.229388\n",
       "2019-12-24               -1.121617\n",
       "2019-12-27               -0.332452\n",
       "2019-12-30               -0.738043\n",
       "2019-12-31               -0.485418\n",
       "\n",
       "[1008 rows x 1 columns]"
      ]
     },
     "execution_count": 6,
     "metadata": {},
     "output_type": "execute_result"
    }
   ],
   "source": [
    "econwords = Category.objects.get(name=\"Econ@\").words.all().values_list('word', flat=True)\n",
    "negwords = Category.objects.get(name=\"Negativ\").words.all().values_list('word', flat=True)\n",
    "legal = set(Category.objects.get(name=\"Legal\").words.all().values_list('word', flat=True))\n",
    "polit = set(Category.objects.get(name=\"Polit@\").words.all().values_list('word', flat=True))\n",
    "socrel = set(Category.objects.get(name=\"SocRel\").words.all().values_list('word',flat=True))\n",
    "econwords = set(econwords)\n",
    "negwords = set(negwords)\n",
    "negecon = econwords.intersection(negwords)\n",
    "legneg = legal.intersection(negwords)\n",
    "politneg = polit.intersection(negwords)\n",
    "total = negecon.union(politneg).union(legneg).union(socrel)\n",
    "\n",
    "spm = SentimentPriceModel()\n",
    "spm.get_asset(asset='^FTMC', column_name='FTSE 250', zscore=True)\n",
    "spm.add_sentiment_variable(category='PolitNegEcon', set=True, column_name='Special Negative Words', zscore=True, sentiment_words=list(total))\n"
   ]
  },
  {
   "cell_type": "code",
   "execution_count": 11,
   "metadata": {},
   "outputs": [],
   "source": [
    "mv = spm.multivariate_df\n",
    "for col in mv.columns:\n",
    "    mv[col] = mv.loc[:, col].rolling(window=1).mean()\n",
    "mv = mv.dropna()\n",
    "mp = spm.produce_plot_model(df=mv)\n",
    "mp.plot()\n"
   ]
  },
  {
   "cell_type": "code",
   "execution_count": 15,
   "metadata": {},
   "outputs": [
    {
     "name": "stderr",
     "output_type": "stream",
     "text": [
      "INFO - 17:22:29: Period type already set to <BusinessDay>\n"
     ]
    },
    {
     "data": {
      "text/plain": [
       "  Summary of Regression Results   \n",
       "==================================\n",
       "Model:                         VAR\n",
       "Method:                        OLS\n",
       "Date:           Sat, 28, Mar, 2020\n",
       "Time:                     17:22:29\n",
       "--------------------------------------------------------------------\n",
       "No. of Equations:         2.00000    BIC:                  -0.869786\n",
       "Nobs:                     1004.00    HQIC:                 -0.924383\n",
       "Log likelihood:          -2350.39    FPE:                   0.383719\n",
       "AIC:                    -0.957845    Det(Omega_mle):        0.376931\n",
       "--------------------------------------------------------------------\n",
       "Results for equation FTSE 250\n",
       "============================================================================================\n",
       "                               coefficient       std. error           t-stat            prob\n",
       "--------------------------------------------------------------------------------------------\n",
       "const                             0.060639         0.026428            2.294           0.022\n",
       "L1.FTSE 250                       0.085702         0.031473            2.723           0.006\n",
       "L1.Special Negative Words        -0.003038         0.035321           -0.086           0.931\n",
       "L2.FTSE 250                      -0.064063         0.031590           -2.028           0.043\n",
       "L2.Special Negative Words         0.023051         0.037822            0.609           0.542\n",
       "L3.FTSE 250                      -0.008035         0.031565           -0.255           0.799\n",
       "L3.Special Negative Words        -0.019777         0.037812           -0.523           0.601\n",
       "L4.FTSE 250                      -0.141050         0.031324           -4.503           0.000\n",
       "L4.Special Negative Words        -0.007422         0.035252           -0.211           0.833\n",
       "============================================================================================\n",
       "\n",
       "Results for equation Special Negative Words\n",
       "============================================================================================\n",
       "                               coefficient       std. error           t-stat            prob\n",
       "--------------------------------------------------------------------------------------------\n",
       "const                             0.002363         0.023579            0.100           0.920\n",
       "L1.FTSE 250                      -0.032103         0.028079           -1.143           0.253\n",
       "L1.Special Negative Words         0.405620         0.031513           12.872           0.000\n",
       "L2.FTSE 250                      -0.028218         0.028184           -1.001           0.317\n",
       "L2.Special Negative Words         0.107309         0.033743            3.180           0.001\n",
       "L3.FTSE 250                       0.020501         0.028161            0.728           0.467\n",
       "L3.Special Negative Words         0.144880         0.033735            4.295           0.000\n",
       "L4.FTSE 250                       0.036170         0.027947            1.294           0.196\n",
       "L4.Special Negative Words         0.139585         0.031451            4.438           0.000\n",
       "============================================================================================\n",
       "\n",
       "Correlation matrix of residuals\n",
       "                          FTSE 250  Special Negative Words\n",
       "FTSE 250                  1.000000               -0.091894\n",
       "Special Negative Words   -0.091894                1.000000\n",
       "\n"
      ]
     },
     "execution_count": 15,
     "metadata": {},
     "output_type": "execute_result"
    }
   ],
   "source": [
    "results = spm.var_model(lag=4, freq=\"B\")\n",
    "results.summary()"
   ]
  },
  {
   "cell_type": "code",
   "execution_count": null,
   "metadata": {},
   "outputs": [],
   "source": []
  }
 ],
 "metadata": {
  "kernelspec": {
   "display_name": "Django Shell-Plus",
   "language": "python",
   "name": "django_extensions"
  },
  "language_info": {
   "codemirror_mode": {
    "name": "ipython",
    "version": 3
   },
   "file_extension": ".py",
   "mimetype": "text/x-python",
   "name": "python",
   "nbconvert_exporter": "python",
   "pygments_lexer": "ipython3",
   "version": "3.6.9"
  }
 },
 "nbformat": 4,
 "nbformat_minor": 4
}
