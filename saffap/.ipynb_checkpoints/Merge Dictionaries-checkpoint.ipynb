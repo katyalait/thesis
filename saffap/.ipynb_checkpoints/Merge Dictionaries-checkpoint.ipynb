{
 "cells": [
  {
   "cell_type": "code",
   "execution_count": 1,
   "metadata": {},
   "outputs": [],
   "source": [
    "import os \n",
    "import pandas as pd\n",
    "os.environ[\"DJANGO_ALLOW_ASYNC_UNSAFE\"] = \"true\"\n",
    "from data_handler.preprocessing import FinancialDataPreprocessor\n",
    "from sentiment.model import SentimentPriceModel\n",
    "from data_handler.models import Asset\n",
    "from sentiment.models import Category"
   ]
  },
  {
   "cell_type": "code",
   "execution_count": 3,
   "metadata": {},
   "outputs": [
    {
     "name": "stdout",
     "output_type": "stream",
     "text": [
      "{'PLAINTIFF', 'COORDINATE', 'WRONG', 'MAY', 'REVOLUTION', 'ROBBERY', 'RECESSION', 'UNDERWENT', 'FOOL', 'GUILTY', 'FEUDAL', 'COLLUSION', 'STEP', 'TRUANT', 'ALLOW', 'UNECONOMICAL', 'OUTLAW', 'ACCEPTANCE', 'PLAGUE', 'JAIL', 'DISMISS', 'KILL', 'MANIPULATE', 'ENTANGLE', 'AMBUSH', 'JOIN', 'BROTHERLY', 'AVOID', 'SUBMISSIVE', 'CAPITAL', 'OVERCOME', 'ANIMOSITY', 'ACCUSATION', 'BEG', 'REGULATE', 'INFLATION', 'COMMONER', 'ENDANGER', 'EXCLUDE', 'MANAGE', 'VOLUNTEER', 'EXCLUSION', 'UNEMPLOYED', 'ILLEGAL', 'FRUSTRATE', 'DICTATORIAL', 'GOVERN', 'INJUNCTION', 'THROW', 'NOSEY', 'LOVE', 'ROOM', 'CHARM', 'DEFEND', 'IMPOSE', 'ABSOLVE', 'BOLT', 'SACRIFICE', 'CONQUER', 'ASSAULT', 'EXCOMMUNICATION', 'VIE', 'BLIND', 'OVERWHELM', 'LEAN', 'LIQUIDATION', 'FLATTER', 'BELITTLE', 'HIT', 'DEFER', 'PROHIBITION', 'UNDERWORLD', 'SUSPECT', 'BLESS', 'DESERT', 'SLIGHT', 'SHELL', 'DICTATE', 'AFFLICT', 'COMFORT', 'PEST', 'CONFEDERATION', 'BLACKMAIL', 'AVOIDANCE', 'RECEIVE', 'HARASSMENT', 'BANKRUPT', 'COERCIVE', 'ABSENTEE', 'CARESS', 'ADULTERY', 'ENSLAVE', 'PAMPER', 'CONSPIRE', 'STILL', 'BOMB', 'DOMINATE', 'COSTLY', 'UNLAWFUL', 'CONTEMPT', 'PRESENT', 'HANG', 'INSPIRE', 'DESIGNATE', 'SUPPRESS', 'UNDISPUTED', 'CAST', 'REBEL', 'COLLABORATE', 'AMELIORATE', 'ALLY', 'PROMPT', 'INSOLENCE', 'SUBDUE', 'KISS', 'ENROLL', 'CONCESSION', 'POOR', 'ALTERCATION', 'DRAW', 'SMOTHER', 'SUBJUGATION', 'DOCTOR', 'CHERISH', 'RELY', 'ADVERSARY', 'DRIVE', 'BREACH', 'TERM', 'LEAGUE', 'STOOD', 'OBSTRUCT', 'MISLEAD', 'ADMONISH', 'TURN', 'REVOLT', 'STOLEN', 'ALLIED', 'KNOCK', 'GUIDE', 'BAR', 'BROKEN-HEARTED', 'COMPLY', 'TARIFF', 'INTERVENE', 'POPULARITY', 'ACCEPT', 'RELIEVE', 'APPROPRIATE', 'REJECT', 'HAMPER', 'CONFLICT', 'EXPENSIVE', 'RESIGN', 'SPONSOR', 'CONCEAL', 'FIRE', 'DISCIPLINE', 'INVOLVE', 'REPARATION', 'AGGRAVATE', 'FINE', 'VAGRANT', 'SHADOW', 'INFRACTION', 'CONQUEROR', 'INTIMACY', 'GONE', 'COERCE', 'TRAP', 'NEGOTIATE', 'LIMIT', 'CRIMINAL', 'HERD', 'RAID', 'UNPROFITABLE', 'OFFICIATE', 'BITE', 'FOLLOW', 'INVITE', 'DEPEND', 'SETTLE', 'DATE', 'BLAME', 'EXTRAVAGANT', 'SOCIABLE', 'LAY', 'ALLIES', 'DEFENSE', 'SCREW', 'CHARGE', 'ABOLISH', 'COMPETITOR', 'INTRUDER', 'MEDIATE', 'PEACE', 'SCARED', 'PRISON', 'APPOINT', 'ANTAGONIST', 'ALONG', 'CURTSEY', 'RECRUIT', 'UNLEASH', 'PLEASED', 'MOVE', 'SUPPORT', 'SUBVERT', 'UNIFY', 'TRUST', 'RETALIATE', 'EXPENSE', 'BENEFIT', 'MISER', 'INVADE', 'SPOKE', 'SHARE', 'MATE', 'HANDLE', 'BELIE', 'BEHAVE', 'DEPRESSION', 'BRING', 'PREDOMINATE', 'PROVIDE', 'QUIET', 'TREASURE', 'COVER', 'APPRECIATIVE', 'ANTI-SOCIAL', 'BOX', 'BRAWL', 'JEOPARDIZE', 'STAMP', 'FASCIST', 'UNJUST', 'BANISH', 'PUNISH', 'HUSTLER', 'REINFORCE', 'COACH', 'ENCOUNTER', 'COMBAT', 'INDEBTED', 'EXECUTION', 'GET', 'DEPRECIATION', 'AX', 'PROSECUTION', 'DISCHARGE', 'EXULTATION', 'IMPASSE', 'SEQUESTER', 'HAUNT', 'IMPEDE', 'POLLUTE', 'SENTENCE', 'SIDE', 'KIDNAP', 'SUBJUGATE', 'PASS', 'EXULT', 'FALL', 'DEBTOR', 'ARBITER', 'RAPPORT', 'BELIEVE', 'ENTANGLEMENT', 'WAKE', 'SKIRMISH', 'BESIEGE', 'UNDER', 'FEUD', 'TAX', 'RECONCILIATION', 'BOARD', 'STOP', 'CHEAP', 'ENTREAT', 'TREASON', 'ACT', 'HIDDEN', 'CONFINE', 'CONSPIRATOR', 'MARRY', 'ARM', 'PARTICIPATE', 'COURT', 'TEST', 'ASSUME', 'NEGLIGENT', 'UNCONTESTED', 'TRY', 'EXTOL', 'EXAMINE', 'SUPPLY', 'THWART', 'SIEGE', 'ROUSE', 'BANISHMENT', 'PROPAGANDA', 'TYRANNY', 'SUFFER', 'GIVE', 'BITCHY', 'SQUANDER', 'HARMONIOUS', 'MIND', 'LAWLESS', 'WHIP', 'NEGLIGENCE', 'BATTLE', 'INSOLENT', 'COERCION', 'STRUGGLE', 'MINISTER', 'SUBSERVIENCE', 'ENGAGE', 'NAME', 'ASSAIL', 'NEGATE', 'INFLUENCE', 'OWE', 'COAX', 'LEAD', 'SIGNIFY', 'INTRUSION', 'SANCTION', 'MAKE', 'SPEAK', 'ARBITRATION', 'HIDE', 'LOOK', 'SERVITUDE', 'UNCONDITIONAL', 'RESIST', 'ANARCHY', 'STICK', 'RESTRAIN', 'SCUFFLE', 'PRY', 'CORRUPT', 'CONSTRAIN', 'RUN', 'STANDSTILL', 'FLATTERY', 'INTERCOURSE', 'BELT', 'EVEN', 'RESPECT', 'CRIME', 'TAKE', 'INHIBIT', 'OFFER', 'PICK', 'THEFT', 'SECESSION', 'HARMONIZE', 'POVERTY', 'COMPROMISE', 'OPPOSE', 'OPPRESSION', 'HUSTLE', 'BIT', 'AUTOCRAT', 'LIQUIDATE', 'FEAST', 'COLLISION', 'YIELD', 'UPROOT', 'PRESS', 'VIOLATION', 'EVICT', 'HONOR', 'MURDER', 'OBLIGE', 'DEFENSIVE', 'SHAFT', 'PROHIBIT', 'CURB', 'ABUSE', 'USURP', 'CONDUCT', 'DEFICIT', 'CONFRONT', 'PREVENT', 'FILIAL', 'CONVICT', 'CONDESCENSION', 'HELP', 'WITHSTAND', 'FREE', 'ALIENATE', 'PLEASE', 'ADVISE', 'SPUR', 'CLOSENESS', 'RESCUE', 'REFUGEE', 'STARTLE', 'UNDERGONE', 'AVERT', 'WITCH', 'DEMORALIZE', 'CHALLENGE', 'PRESIDE', 'STEAL', 'DIVORCE', 'CONDEMN', 'GUARD', 'SHOCK', 'MERIT', 'MESH', 'OVERBEARING', 'BROKE', 'ATTACHMENT', 'CONTRIBUTE', 'CHUM', 'BETRAYAL', 'TREASONOUS', 'DEPRIVE', 'REVENGE', 'HEAD', 'OVERTURN', 'OBEY', 'VICE', 'REPULSE', 'ENFORCE', 'RECONCILE', 'ADOPT', 'FELL', 'ELECT', 'UNDERGO', 'COMMISERATION', 'WARLIKE', 'ROMANCE', 'PIECE', 'REPEAL', 'UNITE', 'STALEMATE', 'WITHHOLD', 'SUBMIT', 'BETRAY', 'INSEPARABLE', 'INTERCEDE', 'ENCHANT', 'WAY', 'IMPAIR', 'IMPRISONMENT', 'WORRY', 'LAID', 'DETER', 'ACKNOWLEDGE', 'WAIT', 'COOPERATE', 'ADMIT', 'RELEASE', 'STAND', 'CARE', 'REACT', 'FOUGHT', 'HALLOWED', 'RELIANCE', 'ARBITRATE', 'IMPRISON', 'DESERVE', 'KICK', 'TEND', 'PERSUASIVE', 'REDEMPTION', 'SPARE', 'MEDDLE', 'CAPTURE', 'FLOOR', 'COSTLINESS', 'CONTEMPTIBLE', 'ATTACK', 'THREATEN', 'STUN', 'CALL', 'RENUNCIATION', 'SUPPRESSION', 'COMPEL', 'RIVALRY', 'DESTITUTE', 'APOLOGIZE', 'WOO', 'BRIBE', 'CONSIDERATE', 'PRISONER', 'ACCORD', 'CONSPIRACY', 'ASSIST', 'BAND', 'HEDGE', 'MONITOR', 'JOBLESS', 'FIGHT', 'OUTFIT', 'REBELLIOUS', 'RADICAL', 'PROTECT', 'VAGABOND', 'RESTRICTION', 'CODDLE', 'CHEAT', 'BANKRUPTCY', 'HUG', 'TRICK', 'TRANSACTION', 'BEHAVIOR', 'ANARCHIST', 'ROPE', 'FORGIVE', 'SECOND', 'VIOLATE', 'HOUSE', 'SCARE', 'AGITATOR', 'SECEDE', 'ACCUSE', 'PROVOKE', 'LET', 'WOUND', 'COMPLIANCE', 'QUARTER', 'HEED', 'APPEAL', 'CROSS', 'PARTICIPATION', 'SUBVERSION', 'COLLAR', 'FORCE', 'SMITTEN', 'DEAL', 'SOCIAL', 'BEFRIEND', 'DEFY', 'ANNOY', 'HURT', 'BELONG', 'REACTIONARY', 'REQUIRE', 'UNDERMINE', 'CONFORM', 'STOLE', 'RESTRICT', 'GAMBLE', 'DEPLOY', 'PERMIT', 'STOMACH', 'WITHHELD', 'AGGRESSOR', 'AID', 'SUPPOSE', 'FUGITIVE', 'THIEF', 'BESTOW', 'ACCOMPANIMENT', 'ENTERTAIN', 'IMITATION', 'FEED', 'ENCOURAGE', 'COMBATANT', 'WASTE', 'PITY', 'ANTITRUST', 'QUARRELSOME', 'ARREST', 'EXPLOIT', 'ESTRANGED', 'WED', 'ENSURE', 'PUT', 'OUST', 'RELINQUISH', 'MINE', 'MANSLAUGHTER', 'INTERPOSE', 'STIFLE', 'PUSH', 'DISPUTABLE', 'CONTRIBUTOR', 'EXACT', 'ALLEGATION', 'RULE', 'SURRENDER', 'CONTROL', 'RESENT', 'BOTHER', 'INEQUALITY', 'SHELTER', 'CONCERN', 'URGE', 'EMPLOY', 'HARM', 'SURPRISE', 'INTRUDE', 'INFRINGEMENT', 'COLONY', 'NURSE', 'PREVENTION', 'CAUGHT', 'EXALT', 'WAR', 'BREAK', 'ILLEGALITY', 'BUM', 'SATISFY', 'ROBBER', 'AUTOCRATIC', 'FORGAVE', 'BESEECH', 'BEGGAR', 'ALLOT', 'STRIKE', 'ENTITLE', 'MEET', 'FORGIVENESS', 'SWEETHEART', 'HOLE', 'GRANT', 'EMBRACE', 'INTERFERE', 'BARGAIN', 'IRON', 'HINDER', 'PARTOOK', 'PROMOTE', 'COST', 'PERSECUTION', 'COLD', 'SYMBOLIZE', 'CLASH', 'ADMINISTER', 'INDICTMENT', 'ATTRACT', 'PAY', 'OVERCAME', 'GO', 'SERVE', 'BATTLEFIELD', 'KEEP', 'APOLOGETIC', 'CONTEMPTUOUS', 'DIRECT', 'ARMED', 'DEFAULT', 'BACK', 'SERVICE', 'PARTAKE', 'RAISE'}\n"
     ]
    }
   ],
   "source": [
    "econwords = Category.objects.get(name=\"Econ@\").words.all().values_list('word', flat=True)\n",
    "negwords = Category.objects.get(name=\"Negativ\").words.all().values_list('word', flat=True)\n",
    "legal = set(Category.objects.get(name=\"Legal\").words.all().values_list('word', flat=True))\n",
    "polit = set(Category.objects.get(name=\"Polit@\").words.all().values_list('word', flat=True))\n",
    "socrel = set(Category.objects.get(name=\"SocRel\").words.all().values_list('word',flat=True))\n",
    "econwords = set(econwords)\n",
    "negwords = set(negwords)\n",
    "negecon = econwords.intersection(negwords)\n",
    "legneg = legal.intersection(negwords)\n",
    "politneg = polit.intersection(negwords)\n",
    "total = negecon.union(politneg).union(legneg).union(socrel)\n",
    "\n",
    "spm = SentimentPriceModel()\n",
    "spm.add_asset_variable(asset='^FTMC', column_name='FTSE 250', zscore=True)\n",
    "spm.add_sentiment_variable(category='PolitNegEcon', set=True, column_name='Special Negative Words', zscore=True, sentiment_words=total)\n"
   ]
  },
  {
   "cell_type": "code",
   "execution_count": null,
   "metadata": {},
   "outputs": [],
   "source": []
  }
 ],
 "metadata": {
  "kernelspec": {
   "display_name": "Django Shell-Plus",
   "language": "python",
   "name": "django_extensions"
  },
  "language_info": {
   "codemirror_mode": {
    "name": "ipython",
    "version": 3
   },
   "file_extension": ".py",
   "mimetype": "text/x-python",
   "name": "python",
   "nbconvert_exporter": "python",
   "pygments_lexer": "ipython3",
   "version": "3.6.9"
  }
 },
 "nbformat": 4,
 "nbformat_minor": 4
}
